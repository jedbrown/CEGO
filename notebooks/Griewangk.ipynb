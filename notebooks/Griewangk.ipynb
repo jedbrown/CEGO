{
 "cells": [
  {
   "cell_type": "code",
   "execution_count": 1,
   "metadata": {},
   "outputs": [],
   "source": [
    "from numpy import sign, exp, cos, sin, sqrt\n",
    "import json\n",
    "import PyCEGO\n",
    "\n",
    "def Griewangk(x):\n",
    "    sum1 = 0.0\n",
    "    prod1 = 1.0\n",
    "    for i in range(len(x)):\n",
    "        sum1 += pow(x[i].as_double(), 2)/4000.0\n",
    "        prod1 *= cos(x[i].as_double()/sqrt(i+1))\n",
    "    return sum1 - prod1 + 1"
   ]
  },
  {
   "cell_type": "code",
   "execution_count": 2,
   "metadata": {},
   "outputs": [
    {
     "name": "stdout",
     "output_type": "stream",
     "text": [
      "i: 0 best: 18.7612 c: -161.129840, -38.090248, 99.073029, -51.390551, 30.424158, 43.426262, 124.161332, 63.936562, 44.945676, 82.527654,  queue: 0\n",
      "i: 50 best: 1.21256 c: -8.342484, -5.032072, -26.596557, 3.682957, -1.257837, 10.229411, 0.229322, 0.226325, 1.157869, 9.899707,  queue: 0\n",
      "i: 100 best: 0.341789 c: 2.901187, 4.723035, 5.561043, -0.692636, 6.429144, -6.496616, -8.707926, -0.127637, 0.704921, 0.685752,  queue: 0\n",
      "i: 150 best: 0.291254 c: 2.827556, -8.816124, -0.264439, -6.020112, 0.418652, 1.087444, -0.017090, 1.076181, -0.368816, 0.743628,  queue: 0\n",
      "i: 200 best: 0.106072 c: -0.027444, 0.329218, 5.551648, 6.316288, 6.941574, -8.148688, -0.298943, 0.119505, 0.150047, -0.321197,  queue: 0\n",
      "i: 250 best: 0.0434751 c: 0.089907, 0.151136, -0.159017, -0.145584, -0.037255, 0.047651, 0.170485, 0.279597, 0.597287, 0.090759,  queue: 0\n",
      "i: 300 best: 0.0236552 c: -0.067642, 0.108800, -0.093147, -0.002775, 0.173813, 0.020485, -0.188265, 0.160936, 0.271075, -0.342033,  queue: 0\n",
      "i: 350 best: 0.00468468 c: 0.022515, -0.014530, -0.133126, -0.010763, -0.045857, 0.003131, 0.012748, -0.000795, 0.107982, 0.103597,  queue: 0\n",
      "i: 400 best: 0.00174592 c: 0.010192, 0.005571, -0.043049, 0.077895, 0.020128, 0.052240, -0.049065, -0.012874, -0.005463, 0.057269,  queue: 0\n",
      "i: 450 best: 0.000291905 c: 0.009931, 0.022538, 0.002098, 0.022794, -0.011506, 0.002508, 0.017385, 0.013989, -0.005668, -0.001676,  queue: 0\n",
      "i: 500 best: 2.40163e-05 c: -0.000216, 0.003257, -0.003604, -0.001244, 0.002384, 0.000379, 0.003679, -0.014268, 0.003638, -0.008822,  queue: 0\n",
      "i: 550 best: 5.24992e-07 c: 0.000537, 0.000004, 0.001090, -0.000188, -0.000450, -0.000618, -0.000192, -0.001015, 0.000390, 0.001000,  queue: 0\n",
      "i: 600 best: 5.534e-09 c: 0.000012, 0.000091, 0.000002, -0.000034, 0.000108, -0.000041, 0.000027, -0.000047, -0.000171, -0.000042,  queue: 0\n",
      "final 8.980938215330525e-11\n"
     ]
    }
   ],
   "source": [
    "D = 10\n",
    "layers = PyCEGO.NumberishLayers(Griewangk, D, D*20, 1, 3)\n",
    "layers.set_bounds([PyCEGO.Bound(-400.0, 400.0) for _ in range(D)])\n",
    "layers.set_builtin_evolver(PyCEGO.BuiltinEvolvers.differential_evolution)\n",
    "\n",
    "# Change some flags for differential evolution (not strictly needed, illustrative)\n",
    "fl = json.loads(layers.get_evolver_flags())\n",
    "fl['Nelite'] = 2\n",
    "fl['Fmin'] = 0.5\n",
    "fl['Fmax'] = 0.5\n",
    "fl['CR'] = 0.2\n",
    "layers.set_evolver_flags(json.dumps(fl))\n",
    "\n",
    "VTR = 1e-10 # Value to reach as acceptable optimization run\n",
    "for counter in range(1000):\n",
    "    layers.do_generation()\n",
    "    cost, coeffs = layers.get_best()\n",
    "    if counter % 50 == 0:\n",
    "        print(layers.print_diagnostics())\n",
    "    if cost < VTR:\n",
    "        break\n",
    "\n",
    "print('final', cost)"
   ]
  }
 ],
 "metadata": {
  "kernelspec": {
   "display_name": "Python 3",
   "language": "python",
   "name": "python3"
  },
  "language_info": {
   "codemirror_mode": {
    "name": "ipython",
    "version": 3
   },
   "file_extension": ".py",
   "mimetype": "text/x-python",
   "name": "python",
   "nbconvert_exporter": "python",
   "pygments_lexer": "ipython3",
   "version": "3.6.0"
  }
 },
 "nbformat": 4,
 "nbformat_minor": 2
}
