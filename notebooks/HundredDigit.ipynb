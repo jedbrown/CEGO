{
 "cells": [
  {
   "cell_type": "markdown",
   "metadata": {},
   "source": [
    "See dissertation of Townsend, Eq. 5.15, modified Eq. 5.14 \n",
    "\n",
    "http://math.mit.edu/~ajt/papers/thesis.pdf pp. 105\n",
    "    \n",
    "Minimum value should be -3.398166873463248 and the functuion has 9,318 minima according to Townsend"
   ]
  },
  {
   "cell_type": "code",
   "execution_count": 1,
   "metadata": {},
   "outputs": [],
   "source": [
    "from numpy import sign, exp, cos, sin, sqrt\n",
    "import json\n",
    "import PyCEGO\n",
    "\n",
    "def HundredDigitPlus(c):\n",
    "    x, y = c\n",
    "    if isinstance(x, PyCEGO.Numberish):\n",
    "        x = x.as_double()\n",
    "        y = y.as_double()\n",
    "    return 0.25*x**2 + exp(sin(100*x))+ sin(140*sin(x)) + 0.25*y**2 + sin(120*exp(y)) +sin(sin(160*y))-sin(20*(x+y))"
   ]
  },
  {
   "cell_type": "code",
   "execution_count": 2,
   "metadata": {},
   "outputs": [
    {
     "name": "stdout",
     "output_type": "stream",
     "text": [
      "i: 0 best: -2.28761 c: -0.013358, 0.382503,  queue: 0\n",
      "i: 50 best: -3.01454 c: 0.355008, -0.912473,  queue: 0\n",
      "i: 100 best: -3.09861 c: 0.558083, -0.481621,  queue: 0\n",
      "i: 150 best: -3.1441 c: -0.145268, 0.542173,  queue: 0\n",
      "i: 200 best: -3.35117 c: -0.145891, 0.539290,  queue: 0\n",
      "i: 250 best: -3.35321 c: -0.145552, 0.539441,  queue: 0\n",
      "i: 300 best: -3.35321 c: -0.145553, 0.539441,  queue: 0\n",
      "i: 350 best: -3.35321 c: -0.145553, 0.539441,  queue: 0\n",
      "i: 400 best: -3.35321 c: -0.145553, 0.539441,  queue: 0\n",
      "i: 450 best: -3.35321 c: -0.145553, 0.539441,  queue: 0\n",
      "i: 500 best: -3.35321 c: -0.145553, 0.539441,  queue: 0\n",
      "i: 550 best: -3.35321 c: -0.145553, 0.539441,  queue: 0\n",
      "i: 600 best: -3.35321 c: -0.145553, 0.539441,  queue: 0\n",
      "i: 650 best: -3.35321 c: -0.145553, 0.539441,  queue: 0\n",
      "i: 700 best: -3.35321 c: -0.145553, 0.539441,  queue: 0\n",
      "i: 750 best: -3.35321 c: -0.145553, 0.539441,  queue: 0\n",
      "i: 800 best: -3.35321 c: -0.145553, 0.539441,  queue: 0\n",
      "i: 850 best: -3.35321 c: -0.145553, 0.539441,  queue: 0\n",
      "i: 900 best: -3.35321 c: -0.145553, 0.539441,  queue: 0\n",
      "i: 950 best: -3.35321 c: -0.145553, 0.539441,  queue: 0\n",
      "final -3.353212019705076\n"
     ]
    }
   ],
   "source": [
    "D = 2\n",
    "layers = PyCEGO.NumberishLayers(HundredDigitPlus, D, D*20, 1, 3)\n",
    "layers.set_bounds([PyCEGO.Bound(-1.0, 1.0) for _ in range(D)])\n",
    "layers.set_builtin_evolver(PyCEGO.BuiltinEvolvers.differential_evolution)\n",
    "\n",
    "VTR = -4 # Value to reach as acceptable optimization run\n",
    "for counter in range(1000):\n",
    "    layers.do_generation()\n",
    "    cost, coeffs = layers.get_best()\n",
    "    if counter % 50 == 0:\n",
    "        print(layers.print_diagnostics())\n",
    "    if cost < VTR:\n",
    "        break\n",
    "\n",
    "print('final', cost)"
   ]
  }
 ],
 "metadata": {
  "kernelspec": {
   "display_name": "Python 3",
   "language": "python",
   "name": "python3"
  },
  "language_info": {
   "codemirror_mode": {
    "name": "ipython",
    "version": 3
   },
   "file_extension": ".py",
   "mimetype": "text/x-python",
   "name": "python",
   "nbconvert_exporter": "python",
   "pygments_lexer": "ipython3",
   "version": "3.6.0"
  }
 },
 "nbformat": 4,
 "nbformat_minor": 2
}
